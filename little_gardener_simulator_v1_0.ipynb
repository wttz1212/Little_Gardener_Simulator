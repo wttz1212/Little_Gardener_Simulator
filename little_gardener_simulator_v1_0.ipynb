{
 "cells": [
  {
   "cell_type": "markdown",
   "metadata": {},
   "source": [
    "# Little Gardener Simulator (V1.0)\n"
   ]
  },
  {
   "cell_type": "markdown",
   "metadata": {},
   "source": [
    "A little step towards a farming simulator : )\n",
    "With this simple little gardener simulator, as a player, you can:\n",
    "- forage in the 'wild' to get your first seeds for the little garden, and\n",
    "- simulate the experience of gardening by planting, growing, and harvesting virtual plants"
   ]
  },
  {
   "cell_type": "code",
   "execution_count": 1,
   "metadata": {},
   "outputs": [],
   "source": [
    "import random # Imagine a game without RNG..."
   ]
  },
  {
   "cell_type": "code",
   "execution_count": 2,
   "metadata": {},
   "outputs": [],
   "source": [
    "# Define the Plant class with its attributes and essential methods\n",
    "\n",
    "class Plant:\n",
    "    \n",
    "    def __init__(self, name, harvest_yield):\n",
    "        self.name = name\n",
    "        self.harvest_yield = harvest_yield\n",
    "        self.growth_stages = [\"seed\", \"sprout\", \"mature\", \"flower\", \"fruit\", \"harvest-ready\"]\n",
    "        self.current_stage = self.growth_stages[0]\n",
    "        self.harvest_ready = False\n",
    "    \n",
    "    def grow(self):\n",
    "        current_index = self.growth_stages.index(self.current_stage)\n",
    "        if self.current_stage == self.growth_stages[-1]:\n",
    "            print(f'{self.name} is fully grown!')\n",
    "        elif current_index < len(self.growth_stages) - 1:\n",
    "            self.current_stage = self.growth_stages[current_index + 1]\n",
    "            if self.current_stage == self.growth_stages[-1]:\n",
    "                self.harvest_ready = True\n",
    "\n",
    "            \n",
    "    def harvest(self):\n",
    "        if self.harvest_ready:\n",
    "            self.harvest_ready = False\n",
    "            return self.harvest_yield\n",
    "        else:\n",
    "            return None\n",
    "            "
   ]
  },
  {
   "cell_type": "code",
   "execution_count": 3,
   "metadata": {},
   "outputs": [],
   "source": [
    "# Define some specific plant types as subclasses of Plant class. \n",
    "\n",
    "class Tomato(Plant):\n",
    "    def __init__(self):\n",
    "        super().__init__('Tomato', 10)\n",
    "\n",
    "class Lettuce(Plant):\n",
    "    def __init__(self):\n",
    "        super().__init__('Lettuce', 5)\n",
    "        self.growth_stages = [\"seed\", \"sprout\", \"mature\", \"flower\", \"harvest-ready\"]\n",
    "\n",
    "class Carrot(Plant):\n",
    "    def __init__(self):\n",
    "        super().__init__(\"Carrot\", 8)\n",
    "        self.growth_stages = [\"seed\", \"sprout\", \"mature\", \"harvest-ready\"]    "
   ]
  },
  {
   "cell_type": "code",
   "execution_count": 4,
   "metadata": {},
   "outputs": [],
   "source": [
    "'''\n",
    "Selec_time function is a helper that will go through a dictionary or list, display a numbered list to player,\n",
    "prompt the player to select an item by number, and lastly return the selected item.\n",
    "'''\n",
    "\n",
    "def select_item(items):\n",
    "    # Determine if the input items is a dictionary or a list\n",
    "    if type(items) == dict:\n",
    "        item_list = list(items.keys())\n",
    "    elif type(items) == list:\n",
    "            item_list = items\n",
    "    else:\n",
    "        print('Invalid items type.')\n",
    "        return None\n",
    "    \n",
    "    # Display a numbered list to player\n",
    "    print('Here is the item list: ')\n",
    "    for i in range(len(item_list)):\n",
    "        try:\n",
    "            item_name = item_list[i].name\n",
    "        except:\n",
    "            item_name = item_list[i]\n",
    "        print(f'{i+1}.{item_name}')\n",
    "    \n",
    "    # Get player input\n",
    "    while True:\n",
    "        user_input = input(\"Select an item: \")\n",
    "        try:\n",
    "            user_input = int(user_input)\n",
    "            if 0 < user_input <= len(item_list):\n",
    "                return item_list[user_input - 1]\n",
    "            else:\n",
    "                print('Invalid input: out of range.')\n",
    "        except:\n",
    "            print('Type error: please enter an integer')"
   ]
  },
  {
   "cell_type": "code",
   "execution_count": 5,
   "metadata": {},
   "outputs": [],
   "source": [
    "# Define the Gardener class, with its attributes and essential methods\n",
    "\n",
    "class Gardener:\n",
    "    \n",
    "    plant_dict = {'tomato': Tomato, 'lettuce': Lettuce, 'carrot': Carrot}\n",
    "    \n",
    "    def __init__(self, name):\n",
    "        self.name = name\n",
    "        self.planted_plants = []\n",
    "        self.inventory = {}\n",
    "        \n",
    "    def plant(self):\n",
    "        if len(self.inventory) == 0:\n",
    "            print('Your inventory is empty. Please forage for some seeds before planting.')\n",
    "            return None\n",
    "        selected_plant = select_item(self.inventory)\n",
    "        if selected_plant in self.inventory and self.inventory[selected_plant] > 0:\n",
    "            self.inventory[selected_plant] -= 1\n",
    "            if self.inventory[selected_plant] == 0:\n",
    "                del self.inventory[selected_plant]\n",
    "            new_plant = self.plant_dict[selected_plant]()\n",
    "            self.planted_plants.append(new_plant)\n",
    "            print(f'{self.name} has planted a {selected_plant}!')\n",
    "        else:\n",
    "            print(f\"{self.name} doesn't have any {selected_plant} to plant.\")\n",
    "    \n",
    "    def tend(self):\n",
    "        if len(self.planted_plants) == 0:\n",
    "            print('No plants to tend. Please plant some first!')\n",
    "            return None\n",
    "        for plant in self.planted_plants:\n",
    "            if plant.harvest_ready:\n",
    "                print(f'{plant.name} is ready to be harvested!')\n",
    "            else:\n",
    "                plant.grow()\n",
    "                print(f'{plant.name} is now a {plant.current_stage}!')\n",
    "    \n",
    "    def harvest(self):\n",
    "        selected_plant = select_item(self.planted_plants)\n",
    "        if selected_plant.harvest_ready:\n",
    "            if selected_plant.name in self.inventory:\n",
    "                self.inventory[selected_plant.name.lower()] += selected_plant.harvest()\n",
    "            else:\n",
    "                self.inventory[selected_plant.name.lower()] = selected_plant.harvest()\n",
    "            print(f\"You harvested a {selected_plant.name.lower()}!\")\n",
    "            self.planted_plants.remove(selected_plant)\n",
    "        else:\n",
    "            print(f\"You can't harvest a {selected_plant.name.lower()}!\")\n",
    "            \n",
    "    def forage_for_seeds(self):\n",
    "        seed = random.choice(list(all_plant_types))\n",
    "        if seed in self.inventory:\n",
    "            self.inventory[seed] += 1\n",
    "        else:\n",
    "            self.inventory[seed] = 1\n",
    "        print(f'{self.name} has found some {seed} seeds!')"
   ]
  },
  {
   "cell_type": "code",
   "execution_count": 6,
   "metadata": {},
   "outputs": [
    {
     "name": "stdout",
     "output_type": "stream",
     "text": [
      "Welcome to your garden! You will act as a virtual gardener.\n",
      "Forage for new seeds, plant them, and then watch them grow!\n",
      "Start by entering your name.\n",
      "What is your name? John\n",
      "Welcome, John! Let's get gardening!\n",
      "Type 'help' for a list of commands.\n"
     ]
    }
   ],
   "source": [
    "# Set the varibales for the little simulator game\n",
    "\n",
    "all_plant_types = ['tomato', 'lettuce', 'carrot']\n",
    "valid_commands = ['plant', 'tend', 'harvest', 'forage', 'help', 'quit']\n",
    "\n",
    "# Welcome message\n",
    "print('Welcome to your garden! You will act as a virtual gardener.\\nForage for new seeds, plant them, and then watch them grow!\\nStart by entering your name.')\n",
    "\n",
    "# Create the gardener\n",
    "gardener_name = input('What is your name? ')\n",
    "print(f\"Welcome, {gardener_name}! Let's get gardening!\\nType 'help' for a list of commands.\")\n",
    "gardener = Gardener(gardener_name)"
   ]
  },
  {
   "cell_type": "code",
   "execution_count": 7,
   "metadata": {},
   "outputs": [
    {
     "name": "stdout",
     "output_type": "stream",
     "text": [
      "What would you like to do? plant\n",
      "Your inventory is empty. Please forage for some seeds before planting.\n",
      "What would you like to do? forage\n",
      "John has found some carrot seeds!\n",
      "What would you like to do? plant\n",
      "Here is the item list: \n",
      "1.carrot\n",
      "Select an item: 1\n",
      "John has planted a carrot!\n",
      "What would you like to do? tend\n",
      "Carrot is now a sprout!\n",
      "What would you like to do? tend\n",
      "Carrot is now a mature!\n",
      "What would you like to do? tend\n",
      "Carrot is now a harvest-ready!\n",
      "What would you like to do? harvest\n",
      "Here is the item list: \n",
      "1.Carrot\n",
      "Select an item: 1\n",
      "You harvested a carrot!\n",
      "What would you like to do? quit\n",
      "Goodbye, John!\n"
     ]
    }
   ],
   "source": [
    "# The main game loop\n",
    "\n",
    "while True:\n",
    "    player_action = input('What would you like to do? ')\n",
    "    player_action = player_action.lower()\n",
    "\n",
    "    if player_action in valid_commands:\n",
    "        if player_action == 'plant':\n",
    "            gardener.plant()\n",
    "        elif player_action == 'tend':\n",
    "            gardener.tend()\n",
    "        elif player_action == 'harvest':\n",
    "            gardener.harvest()\n",
    "        elif player_action == 'forage':\n",
    "            gardener.forage_for_seeds()\n",
    "        elif player_action == 'help':\n",
    "            print('*****Commands*****')\n",
    "            for command in valid_commands:\n",
    "                print(command)\n",
    "        elif player_action == 'quit':\n",
    "            print(f'Goodbye, {gardener_name}!')\n",
    "            break\n",
    "    else:\n",
    "        print('Invalid command. Please try again.')\n"
   ]
  },
  {
   "cell_type": "markdown",
   "metadata": {},
   "source": [
    "That's it for the Little Gardener Simulator (V1.0). It's simple, and has lots of room for more features and improvements.\n",
    "\n",
    "**Future Updates:**\n",
    "1. Add a few more methods to allow players to view and modify inventory and the list of all plants in the game.\n",
    "2. Build a economic system so players can sell products, buy seeds, tools, lands, etc.\n",
    "3. Add achievements and milestones.\n",
    "4. Consider some random events like pests and challenging weather conditions.\n",
    "5. At 2.0, let's remake the text game into a 2D web-based game using Streamlit!  "
   ]
  }
 ],
 "metadata": {
  "kernelspec": {
   "display_name": "Python 3 (ipykernel)",
   "language": "python",
   "name": "python3"
  },
  "language_info": {
   "codemirror_mode": {
    "name": "ipython",
    "version": 3
   },
   "file_extension": ".py",
   "mimetype": "text/x-python",
   "name": "python",
   "nbconvert_exporter": "python",
   "pygments_lexer": "ipython3",
   "version": "3.9.13"
  }
 },
 "nbformat": 4,
 "nbformat_minor": 4
}
